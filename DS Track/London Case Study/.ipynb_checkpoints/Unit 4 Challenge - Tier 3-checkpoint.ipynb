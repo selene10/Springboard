{
 "cells": [
  {
   "cell_type": "markdown",
   "metadata": {
    "colab_type": "text",
    "id": "Tia3MP1SJpgj"
   },
   "source": [
    "# Springboard Data Science Career Track Unit 4 Challenge - Tier 3 Complete\n",
    "\n",
    "## Objectives\n",
    "Hey! Great job getting through those challenging DataCamp courses. You're learning a lot in a short span of time. \n",
    "\n",
    "In this notebook, you're going to apply the skills you've been learning, bridging the gap between the controlled environment of DataCamp and the *slightly* messier work that data scientists do with actual datasets!\n",
    "\n",
    "Here’s the mystery we’re going to solve: ***which boroughs of London have seen the greatest increase in housing prices, on average, over the last two decades?***\n",
    "\n",
    "\n",
    "A borough is just a fancy word for district. You may be familiar with the five boroughs of New York… well, there are 32 boroughs within Greater London [(here's some info for the curious)](https://en.wikipedia.org/wiki/London_boroughs). Some of them are more desirable areas to live in, and the data will reflect that with a greater rise in housing prices.\n",
    "\n",
    "***This is the Tier 3 notebook, which means it's not filled in at all: we'll just give you the skeleton of a project, the brief and the data. It's up to you to play around with it and see what you can find out! Good luck! If you struggle, feel free to look at easier tiers for help; but try to dip in and out of them, as the more independent work you do, the better it is for your learning!***\n",
    "\n",
    "This challenge will make use of only what you learned in the following DataCamp courses: \n",
    "- Prework courses (Introduction to Python for Data Science, Intermediate Python for Data Science)\n",
    "- Data Types for Data Science\n",
    "- Python Data Science Toolbox (Part One) \n",
    "- pandas Foundations\n",
    "- Manipulating DataFrames with pandas\n",
    "- Merging DataFrames with pandas\n",
    "\n",
    "Of the tools, techniques and concepts in the above DataCamp courses, this challenge should require the application of the following: \n",
    "- **pandas**\n",
    "    - **data ingestion and inspection** (pandas Foundations, Module One) \n",
    "    - **exploratory data analysis** (pandas Foundations, Module Two)\n",
    "    - **tidying and cleaning** (Manipulating DataFrames with pandas, Module Three) \n",
    "    - **transforming DataFrames** (Manipulating DataFrames with pandas, Module One)\n",
    "    - **subsetting DataFrames with lists** (Manipulating DataFrames with pandas, Module One) \n",
    "    - **filtering DataFrames** (Manipulating DataFrames with pandas, Module One) \n",
    "    - **grouping data** (Manipulating DataFrames with pandas, Module Four) \n",
    "    - **melting data** (Manipulating DataFrames with pandas, Module Three) \n",
    "    - **advanced indexing** (Manipulating DataFrames with pandas, Module Four) \n",
    "- **matplotlib** (Intermediate Python for Data Science, Module One)\n",
    "- **fundamental data types** (Data Types for Data Science, Module One) \n",
    "- **dictionaries** (Intermediate Python for Data Science, Module Two)\n",
    "- **handling dates and times** (Data Types for Data Science, Module Four)\n",
    "- **function definition** (Python Data Science Toolbox - Part One, Module One)\n",
    "- **default arguments, variable length, and scope** (Python Data Science Toolbox - Part One, Module Two) \n",
    "- **lambda functions and error handling** (Python Data Science Toolbox - Part One, Module Four) "
   ]
  },
  {
   "cell_type": "markdown",
   "metadata": {
    "colab_type": "text",
    "id": "Ipgd2nV8Jpgl"
   },
   "source": [
    "## The Data Science Pipeline\n",
    "\n",
    "This is Tier Three, so we'll get you started. But after that, it's all in your hands! When you feel done with your investigations, look back over what you've accomplished, and prepare a quick presentation of your findings for the next mentor meeting. \n",
    "\n",
    "Data Science is magical. In this case study, you'll get to apply some complex machine learning algorithms. But as  [David Spiegelhalter](https://www.youtube.com/watch?v=oUs1uvsz0Ok) reminds us, there is no substitute for simply **taking a really, really good look at the data.** Sometimes, this is all we need to answer our question.\n",
    "\n",
    "Data Science projects generally adhere to the four stages of Data Science Pipeline:\n",
    "1. Sourcing and loading \n",
    "2. Cleaning, transforming, and visualizing \n",
    "3. Modeling \n",
    "4. Evaluating and concluding \n"
   ]
  },
  {
   "cell_type": "markdown",
   "metadata": {
    "colab_type": "text",
    "id": "zswDqbefJpgm"
   },
   "source": [
    "### 1. Sourcing and Loading \n",
    "\n",
    "Any Data Science project kicks off by importing  ***pandas***. The documentation of this wonderful library can be found [here](https://pandas.pydata.org/). As you've seen, pandas is conveniently connected to the [Numpy](http://www.numpy.org/) and [Matplotlib](https://matplotlib.org/) libraries. \n",
    "\n",
    "***Hint:*** This part of the data science pipeline will test those skills you acquired in the pandas Foundations course, Module One. "
   ]
  },
  {
   "cell_type": "markdown",
   "metadata": {
    "colab_type": "text",
    "id": "aEau5nEvJpgm"
   },
   "source": [
    "#### 1.1. Importing Libraries"
   ]
  },
  {
   "cell_type": "code",
   "execution_count": 3,
   "metadata": {
    "colab": {},
    "colab_type": "code",
    "id": "7Bt_Q_oPJpgn"
   },
   "outputs": [],
   "source": [
    "# Let's import the pandas, numpy libraries as pd, and np respectively. \n",
    "import pandas as pd\n",
    "import numpy as np\n",
    "\n",
    "# Load the pyplot collection of functions from matplotlib, as plt \n",
    "import matplotlib.pyplot as plt"
   ]
  },
  {
   "cell_type": "markdown",
   "metadata": {
    "colab_type": "text",
    "id": "koUrawxsJpgq"
   },
   "source": [
    "#### 1.2.  Loading the data\n",
    "Your data comes from the [London Datastore](https://data.london.gov.uk/): a free, open-source data-sharing portal for London-oriented datasets. "
   ]
  },
  {
   "cell_type": "code",
   "execution_count": 4,
   "metadata": {
    "colab": {},
    "colab_type": "code",
    "id": "AiLiD4v3Jpgr"
   },
   "outputs": [],
   "source": [
    "# First, make a variable called url_LondonHousePrices, and assign it the following link, enclosed in quotation-marks as a string:\n",
    "# https://data.london.gov.uk/download/uk-house-price-index/70ac0766-8902-4eb5-aab5-01951aaed773/UK%20House%20price%20index.xls\n",
    "\n",
    "url_LondonHousePrices = \"https://data.london.gov.uk/download/uk-house-price-index/70ac0766-8902-4eb5-aab5-01951aaed773/UK%20House%20price%20index.xls\"\n",
    "\n",
    "# The dataset we're interested in contains the Average prices of the houses, and is actually on a particular sheet of the Excel file. \n",
    "# As a result, we need to specify the sheet name in the read_excel() method.\n",
    "# Put this data into a variable called properties.  \n",
    "properties = pd.read_excel(url_LondonHousePrices, sheet_name='Average price', index_col= None)"
   ]
  },
  {
   "cell_type": "markdown",
   "metadata": {
    "colab_type": "text",
    "id": "POukEJXgJpgu"
   },
   "source": [
    "### 2. Cleaning, transforming, and visualizing\n",
    "This second stage is arguably the most important part of any Data Science project. The first thing to do is take a proper look at the data. Cleaning forms the majority of this stage, and can be done both before or after Transformation.\n",
    "\n",
    "The end goal of data cleaning is to have tidy data. When data is tidy: \n",
    "\n",
    "1. Each variable has a column.\n",
    "2. Each observation forms a row.\n",
    "\n",
    "Keep the end goal in mind as you move through this process, every step will take you closer. \n",
    "\n",
    "\n",
    "\n",
    "***Hint:*** This part of the data science pipeline should test those skills you acquired in: \n",
    "- Intermediate Python for data science, all modules.\n",
    "- pandas Foundations, all modules. \n",
    "- Manipulating DataFrames with pandas, all modules.\n",
    "- Data Types for Data Science, Module Four.\n",
    "- Python Data Science Toolbox - Part One, all modules"
   ]
  },
  {
   "cell_type": "markdown",
   "metadata": {
    "colab_type": "text",
    "id": "Te0Q548tnzZa"
   },
   "source": [
    "**2.1. Exploring your data** \n",
    "\n",
    "Think about your pandas functions for checking out a dataframe. "
   ]
  },
  {
   "cell_type": "code",
   "execution_count": 5,
   "metadata": {
    "colab": {},
    "colab_type": "code",
    "id": "Rxirxw_qoAJa"
   },
   "outputs": [
    {
     "name": "stdout",
     "output_type": "stream",
     "text": [
      "<class 'pandas.core.frame.DataFrame'>\n",
      "RangeIndex: 329 entries, 0 to 328\n",
      "Data columns (total 49 columns):\n",
      " #   Column                Non-Null Count  Dtype         \n",
      "---  ------                --------------  -----         \n",
      " 0   Unnamed: 0            328 non-null    datetime64[ns]\n",
      " 1   City of London        329 non-null    object        \n",
      " 2   Barking & Dagenham    329 non-null    object        \n",
      " 3   Barnet                329 non-null    object        \n",
      " 4   Bexley                329 non-null    object        \n",
      " 5   Brent                 329 non-null    object        \n",
      " 6   Bromley               329 non-null    object        \n",
      " 7   Camden                329 non-null    object        \n",
      " 8   Croydon               329 non-null    object        \n",
      " 9   Ealing                329 non-null    object        \n",
      " 10  Enfield               329 non-null    object        \n",
      " 11  Greenwich             329 non-null    object        \n",
      " 12  Hackney               329 non-null    object        \n",
      " 13  Hammersmith & Fulham  329 non-null    object        \n",
      " 14  Haringey              329 non-null    object        \n",
      " 15  Harrow                329 non-null    object        \n",
      " 16  Havering              329 non-null    object        \n",
      " 17  Hillingdon            329 non-null    object        \n",
      " 18  Hounslow              329 non-null    object        \n",
      " 19  Islington             329 non-null    object        \n",
      " 20  Kensington & Chelsea  329 non-null    object        \n",
      " 21  Kingston upon Thames  329 non-null    object        \n",
      " 22  Lambeth               329 non-null    object        \n",
      " 23  Lewisham              329 non-null    object        \n",
      " 24  Merton                329 non-null    object        \n",
      " 25  Newham                329 non-null    object        \n",
      " 26  Redbridge             329 non-null    object        \n",
      " 27  Richmond upon Thames  329 non-null    object        \n",
      " 28  Southwark             329 non-null    object        \n",
      " 29  Sutton                329 non-null    object        \n",
      " 30  Tower Hamlets         329 non-null    object        \n",
      " 31  Waltham Forest        329 non-null    object        \n",
      " 32  Wandsworth            329 non-null    object        \n",
      " 33  Westminster           329 non-null    object        \n",
      " 34  Unnamed: 34           0 non-null      float64       \n",
      " 35  Inner London          329 non-null    object        \n",
      " 36  Outer London          329 non-null    object        \n",
      " 37  Unnamed: 37           0 non-null      float64       \n",
      " 38  NORTH EAST            329 non-null    object        \n",
      " 39  NORTH WEST            329 non-null    object        \n",
      " 40  YORKS & THE HUMBER    329 non-null    object        \n",
      " 41  EAST MIDLANDS         329 non-null    object        \n",
      " 42  WEST MIDLANDS         329 non-null    object        \n",
      " 43  EAST OF ENGLAND       329 non-null    object        \n",
      " 44  LONDON                329 non-null    object        \n",
      " 45  SOUTH EAST            329 non-null    object        \n",
      " 46  SOUTH WEST            329 non-null    object        \n",
      " 47  Unnamed: 47           0 non-null      float64       \n",
      " 48  England               329 non-null    object        \n",
      "dtypes: datetime64[ns](1), float64(3), object(45)\n",
      "memory usage: 126.1+ KB\n"
     ]
    },
    {
     "data": {
      "text/plain": [
       "(329, 49)"
      ]
     },
     "execution_count": 5,
     "metadata": {},
     "output_type": "execute_result"
    }
   ],
   "source": [
    "properties.head()\n",
    "properties.info()\n",
    "properties.shape"
   ]
  },
  {
   "cell_type": "markdown",
   "metadata": {
    "colab_type": "text",
    "id": "tE9Sqt9-oAta"
   },
   "source": [
    "**2.2. Cleaning the data**\n",
    "\n",
    "You might find you need to transpose your dataframe, check out what its row indexes are, and reset the index. You  also might find you need to assign the values of the first row to your column headings  . (Hint: recall the .columns feature of DataFrames, as well as the iloc[] method).\n",
    "\n",
    "Don't be afraid to use StackOverflow for help  with this."
   ]
  },
  {
   "cell_type": "code",
   "execution_count": 6,
   "metadata": {
    "colab": {},
    "colab_type": "code",
    "id": "cdAu1A3YoH_r"
   },
   "outputs": [
    {
     "data": {
      "text/html": [
       "<div>\n",
       "<style scoped>\n",
       "    .dataframe tbody tr th:only-of-type {\n",
       "        vertical-align: middle;\n",
       "    }\n",
       "\n",
       "    .dataframe tbody tr th {\n",
       "        vertical-align: top;\n",
       "    }\n",
       "\n",
       "    .dataframe thead th {\n",
       "        text-align: right;\n",
       "    }\n",
       "</style>\n",
       "<table border=\"1\" class=\"dataframe\">\n",
       "  <thead>\n",
       "    <tr style=\"text-align: right;\">\n",
       "      <th></th>\n",
       "      <th>Unnamed: 0</th>\n",
       "      <th>NaT</th>\n",
       "      <th>1995-01-01 00:00:00</th>\n",
       "      <th>1995-02-01 00:00:00</th>\n",
       "      <th>1995-03-01 00:00:00</th>\n",
       "      <th>1995-04-01 00:00:00</th>\n",
       "      <th>1995-05-01 00:00:00</th>\n",
       "      <th>1995-06-01 00:00:00</th>\n",
       "      <th>1995-07-01 00:00:00</th>\n",
       "      <th>1995-08-01 00:00:00</th>\n",
       "      <th>...</th>\n",
       "      <th>2021-07-01 00:00:00</th>\n",
       "      <th>2021-08-01 00:00:00</th>\n",
       "      <th>2021-09-01 00:00:00</th>\n",
       "      <th>2021-10-01 00:00:00</th>\n",
       "      <th>2021-11-01 00:00:00</th>\n",
       "      <th>2021-12-01 00:00:00</th>\n",
       "      <th>2022-01-01 00:00:00</th>\n",
       "      <th>2022-02-01 00:00:00</th>\n",
       "      <th>2022-03-01 00:00:00</th>\n",
       "      <th>2022-04-01 00:00:00</th>\n",
       "    </tr>\n",
       "  </thead>\n",
       "  <tbody>\n",
       "    <tr>\n",
       "      <th>1</th>\n",
       "      <td>City of London</td>\n",
       "      <td>E09000001</td>\n",
       "      <td>91448.98487</td>\n",
       "      <td>82202.77314</td>\n",
       "      <td>79120.70256</td>\n",
       "      <td>77101.20804</td>\n",
       "      <td>84409.14932</td>\n",
       "      <td>94900.51244</td>\n",
       "      <td>110128.0423</td>\n",
       "      <td>112329.4376</td>\n",
       "      <td>...</td>\n",
       "      <td>946823.5048</td>\n",
       "      <td>951748.3655</td>\n",
       "      <td>956411.5828</td>\n",
       "      <td>792257.5493</td>\n",
       "      <td>798212.3879</td>\n",
       "      <td>813435.102</td>\n",
       "      <td>811508.8041</td>\n",
       "      <td>864897.234</td>\n",
       "      <td>813511.6177</td>\n",
       "      <td>838145.2394</td>\n",
       "    </tr>\n",
       "    <tr>\n",
       "      <th>2</th>\n",
       "      <td>Barking &amp; Dagenham</td>\n",
       "      <td>E09000002</td>\n",
       "      <td>50460.2266</td>\n",
       "      <td>51085.77983</td>\n",
       "      <td>51268.96956</td>\n",
       "      <td>53133.50526</td>\n",
       "      <td>53042.24852</td>\n",
       "      <td>53700.34831</td>\n",
       "      <td>52113.12157</td>\n",
       "      <td>52232.19868</td>\n",
       "      <td>...</td>\n",
       "      <td>309272.9988</td>\n",
       "      <td>313458.6524</td>\n",
       "      <td>315061.8135</td>\n",
       "      <td>326733.2244</td>\n",
       "      <td>327928.3074</td>\n",
       "      <td>329557.0047</td>\n",
       "      <td>338869.7029</td>\n",
       "      <td>345001.3576</td>\n",
       "      <td>346064.5259</td>\n",
       "      <td>336125.8982</td>\n",
       "    </tr>\n",
       "    <tr>\n",
       "      <th>3</th>\n",
       "      <td>Barnet</td>\n",
       "      <td>E09000003</td>\n",
       "      <td>93284.51832</td>\n",
       "      <td>93190.16963</td>\n",
       "      <td>92247.52435</td>\n",
       "      <td>90762.87492</td>\n",
       "      <td>90258.00033</td>\n",
       "      <td>90107.23471</td>\n",
       "      <td>91441.24768</td>\n",
       "      <td>92361.31512</td>\n",
       "      <td>...</td>\n",
       "      <td>543469.3212</td>\n",
       "      <td>557782.6161</td>\n",
       "      <td>556321.1527</td>\n",
       "      <td>574852.5269</td>\n",
       "      <td>577708.2605</td>\n",
       "      <td>583195.3087</td>\n",
       "      <td>580179.6373</td>\n",
       "      <td>576485.8755</td>\n",
       "      <td>576689.7495</td>\n",
       "      <td>596898.1846</td>\n",
       "    </tr>\n",
       "    <tr>\n",
       "      <th>4</th>\n",
       "      <td>Bexley</td>\n",
       "      <td>E09000004</td>\n",
       "      <td>64958.09036</td>\n",
       "      <td>64787.92069</td>\n",
       "      <td>64367.49344</td>\n",
       "      <td>64277.66881</td>\n",
       "      <td>63997.13588</td>\n",
       "      <td>64252.32335</td>\n",
       "      <td>63722.70055</td>\n",
       "      <td>64432.60005</td>\n",
       "      <td>...</td>\n",
       "      <td>366095.067</td>\n",
       "      <td>371295.1503</td>\n",
       "      <td>372283.9658</td>\n",
       "      <td>375783.3263</td>\n",
       "      <td>378961.3767</td>\n",
       "      <td>379526.3458</td>\n",
       "      <td>382270.4215</td>\n",
       "      <td>387171.1018</td>\n",
       "      <td>393246.1533</td>\n",
       "      <td>392154.9821</td>\n",
       "    </tr>\n",
       "    <tr>\n",
       "      <th>5</th>\n",
       "      <td>Brent</td>\n",
       "      <td>E09000005</td>\n",
       "      <td>71306.56698</td>\n",
       "      <td>72022.26197</td>\n",
       "      <td>72015.76274</td>\n",
       "      <td>72965.63094</td>\n",
       "      <td>73704.04743</td>\n",
       "      <td>74310.48167</td>\n",
       "      <td>74127.03788</td>\n",
       "      <td>73547.0411</td>\n",
       "      <td>...</td>\n",
       "      <td>525953.4981</td>\n",
       "      <td>519967.3789</td>\n",
       "      <td>516871.8266</td>\n",
       "      <td>509397.4875</td>\n",
       "      <td>515067.9083</td>\n",
       "      <td>518958.5856</td>\n",
       "      <td>519652.186</td>\n",
       "      <td>525664.3639</td>\n",
       "      <td>532006.6781</td>\n",
       "      <td>546934.1163</td>\n",
       "    </tr>\n",
       "  </tbody>\n",
       "</table>\n",
       "<p>5 rows × 330 columns</p>\n",
       "</div>"
      ],
      "text/plain": [
       "0          Unnamed: 0        NaT 1995-01-01 00:00:00 1995-02-01 00:00:00  \\\n",
       "1      City of London  E09000001         91448.98487         82202.77314   \n",
       "2  Barking & Dagenham  E09000002          50460.2266         51085.77983   \n",
       "3              Barnet  E09000003         93284.51832         93190.16963   \n",
       "4              Bexley  E09000004         64958.09036         64787.92069   \n",
       "5               Brent  E09000005         71306.56698         72022.26197   \n",
       "\n",
       "0 1995-03-01 00:00:00 1995-04-01 00:00:00 1995-05-01 00:00:00  \\\n",
       "1         79120.70256         77101.20804         84409.14932   \n",
       "2         51268.96956         53133.50526         53042.24852   \n",
       "3         92247.52435         90762.87492         90258.00033   \n",
       "4         64367.49344         64277.66881         63997.13588   \n",
       "5         72015.76274         72965.63094         73704.04743   \n",
       "\n",
       "0 1995-06-01 00:00:00 1995-07-01 00:00:00 1995-08-01 00:00:00  ...  \\\n",
       "1         94900.51244         110128.0423         112329.4376  ...   \n",
       "2         53700.34831         52113.12157         52232.19868  ...   \n",
       "3         90107.23471         91441.24768         92361.31512  ...   \n",
       "4         64252.32335         63722.70055         64432.60005  ...   \n",
       "5         74310.48167         74127.03788          73547.0411  ...   \n",
       "\n",
       "0 2021-07-01 00:00:00 2021-08-01 00:00:00 2021-09-01 00:00:00  \\\n",
       "1         946823.5048         951748.3655         956411.5828   \n",
       "2         309272.9988         313458.6524         315061.8135   \n",
       "3         543469.3212         557782.6161         556321.1527   \n",
       "4          366095.067         371295.1503         372283.9658   \n",
       "5         525953.4981         519967.3789         516871.8266   \n",
       "\n",
       "0 2021-10-01 00:00:00 2021-11-01 00:00:00 2021-12-01 00:00:00  \\\n",
       "1         792257.5493         798212.3879          813435.102   \n",
       "2         326733.2244         327928.3074         329557.0047   \n",
       "3         574852.5269         577708.2605         583195.3087   \n",
       "4         375783.3263         378961.3767         379526.3458   \n",
       "5         509397.4875         515067.9083         518958.5856   \n",
       "\n",
       "0 2022-01-01 00:00:00 2022-02-01 00:00:00 2022-03-01 00:00:00  \\\n",
       "1         811508.8041          864897.234         813511.6177   \n",
       "2         338869.7029         345001.3576         346064.5259   \n",
       "3         580179.6373         576485.8755         576689.7495   \n",
       "4         382270.4215         387171.1018         393246.1533   \n",
       "5          519652.186         525664.3639         532006.6781   \n",
       "\n",
       "0 2022-04-01 00:00:00  \n",
       "1         838145.2394  \n",
       "2         336125.8982  \n",
       "3         596898.1846  \n",
       "4         392154.9821  \n",
       "5         546934.1163  \n",
       "\n",
       "[5 rows x 330 columns]"
      ]
     },
     "execution_count": 6,
     "metadata": {},
     "output_type": "execute_result"
    }
   ],
   "source": [
    "# transposing dataframe and checking index\n",
    "properties_T = properties.T\n",
    "properties_T.index\n",
    "\n",
    "# resetting index\n",
    "properties_T = properties_T.reset_index()\n",
    "properties_T.index\n",
    "\n",
    "# assigning the values of the first row to column headings\n",
    "properties_T.columns = properties_T.iloc[0]\n",
    "properties_T = properties_T.drop(0)\n",
    "properties_T.head()"
   ]
  },
  {
   "cell_type": "markdown",
   "metadata": {
    "colab_type": "text",
    "id": "o1uLbJAsoIjK"
   },
   "source": [
    "**2.3. Cleaning the data (part 2)**\n",
    "\n",
    "You might we have to **rename** a couple columns. How do you do this? The clue's pretty bold..."
   ]
  },
  {
   "cell_type": "code",
   "execution_count": 7,
   "metadata": {
    "colab": {},
    "colab_type": "code",
    "id": "GKkmn1AnoVZS"
   },
   "outputs": [
    {
     "data": {
      "text/html": [
       "<div>\n",
       "<style scoped>\n",
       "    .dataframe tbody tr th:only-of-type {\n",
       "        vertical-align: middle;\n",
       "    }\n",
       "\n",
       "    .dataframe tbody tr th {\n",
       "        vertical-align: top;\n",
       "    }\n",
       "\n",
       "    .dataframe thead th {\n",
       "        text-align: right;\n",
       "    }\n",
       "</style>\n",
       "<table border=\"1\" class=\"dataframe\">\n",
       "  <thead>\n",
       "    <tr style=\"text-align: right;\">\n",
       "      <th></th>\n",
       "      <th>London Boroughs</th>\n",
       "      <th>ID</th>\n",
       "      <th>1995-01-01 00:00:00</th>\n",
       "      <th>1995-02-01 00:00:00</th>\n",
       "      <th>1995-03-01 00:00:00</th>\n",
       "      <th>1995-04-01 00:00:00</th>\n",
       "      <th>1995-05-01 00:00:00</th>\n",
       "      <th>1995-06-01 00:00:00</th>\n",
       "      <th>1995-07-01 00:00:00</th>\n",
       "      <th>1995-08-01 00:00:00</th>\n",
       "      <th>...</th>\n",
       "      <th>2021-07-01 00:00:00</th>\n",
       "      <th>2021-08-01 00:00:00</th>\n",
       "      <th>2021-09-01 00:00:00</th>\n",
       "      <th>2021-10-01 00:00:00</th>\n",
       "      <th>2021-11-01 00:00:00</th>\n",
       "      <th>2021-12-01 00:00:00</th>\n",
       "      <th>2022-01-01 00:00:00</th>\n",
       "      <th>2022-02-01 00:00:00</th>\n",
       "      <th>2022-03-01 00:00:00</th>\n",
       "      <th>2022-04-01 00:00:00</th>\n",
       "    </tr>\n",
       "  </thead>\n",
       "  <tbody>\n",
       "    <tr>\n",
       "      <th>1</th>\n",
       "      <td>City of London</td>\n",
       "      <td>E09000001</td>\n",
       "      <td>91448.98487</td>\n",
       "      <td>82202.77314</td>\n",
       "      <td>79120.70256</td>\n",
       "      <td>77101.20804</td>\n",
       "      <td>84409.14932</td>\n",
       "      <td>94900.51244</td>\n",
       "      <td>110128.0423</td>\n",
       "      <td>112329.4376</td>\n",
       "      <td>...</td>\n",
       "      <td>946823.5048</td>\n",
       "      <td>951748.3655</td>\n",
       "      <td>956411.5828</td>\n",
       "      <td>792257.5493</td>\n",
       "      <td>798212.3879</td>\n",
       "      <td>813435.102</td>\n",
       "      <td>811508.8041</td>\n",
       "      <td>864897.234</td>\n",
       "      <td>813511.6177</td>\n",
       "      <td>838145.2394</td>\n",
       "    </tr>\n",
       "    <tr>\n",
       "      <th>2</th>\n",
       "      <td>Barking &amp; Dagenham</td>\n",
       "      <td>E09000002</td>\n",
       "      <td>50460.2266</td>\n",
       "      <td>51085.77983</td>\n",
       "      <td>51268.96956</td>\n",
       "      <td>53133.50526</td>\n",
       "      <td>53042.24852</td>\n",
       "      <td>53700.34831</td>\n",
       "      <td>52113.12157</td>\n",
       "      <td>52232.19868</td>\n",
       "      <td>...</td>\n",
       "      <td>309272.9988</td>\n",
       "      <td>313458.6524</td>\n",
       "      <td>315061.8135</td>\n",
       "      <td>326733.2244</td>\n",
       "      <td>327928.3074</td>\n",
       "      <td>329557.0047</td>\n",
       "      <td>338869.7029</td>\n",
       "      <td>345001.3576</td>\n",
       "      <td>346064.5259</td>\n",
       "      <td>336125.8982</td>\n",
       "    </tr>\n",
       "    <tr>\n",
       "      <th>3</th>\n",
       "      <td>Barnet</td>\n",
       "      <td>E09000003</td>\n",
       "      <td>93284.51832</td>\n",
       "      <td>93190.16963</td>\n",
       "      <td>92247.52435</td>\n",
       "      <td>90762.87492</td>\n",
       "      <td>90258.00033</td>\n",
       "      <td>90107.23471</td>\n",
       "      <td>91441.24768</td>\n",
       "      <td>92361.31512</td>\n",
       "      <td>...</td>\n",
       "      <td>543469.3212</td>\n",
       "      <td>557782.6161</td>\n",
       "      <td>556321.1527</td>\n",
       "      <td>574852.5269</td>\n",
       "      <td>577708.2605</td>\n",
       "      <td>583195.3087</td>\n",
       "      <td>580179.6373</td>\n",
       "      <td>576485.8755</td>\n",
       "      <td>576689.7495</td>\n",
       "      <td>596898.1846</td>\n",
       "    </tr>\n",
       "    <tr>\n",
       "      <th>4</th>\n",
       "      <td>Bexley</td>\n",
       "      <td>E09000004</td>\n",
       "      <td>64958.09036</td>\n",
       "      <td>64787.92069</td>\n",
       "      <td>64367.49344</td>\n",
       "      <td>64277.66881</td>\n",
       "      <td>63997.13588</td>\n",
       "      <td>64252.32335</td>\n",
       "      <td>63722.70055</td>\n",
       "      <td>64432.60005</td>\n",
       "      <td>...</td>\n",
       "      <td>366095.067</td>\n",
       "      <td>371295.1503</td>\n",
       "      <td>372283.9658</td>\n",
       "      <td>375783.3263</td>\n",
       "      <td>378961.3767</td>\n",
       "      <td>379526.3458</td>\n",
       "      <td>382270.4215</td>\n",
       "      <td>387171.1018</td>\n",
       "      <td>393246.1533</td>\n",
       "      <td>392154.9821</td>\n",
       "    </tr>\n",
       "    <tr>\n",
       "      <th>5</th>\n",
       "      <td>Brent</td>\n",
       "      <td>E09000005</td>\n",
       "      <td>71306.56698</td>\n",
       "      <td>72022.26197</td>\n",
       "      <td>72015.76274</td>\n",
       "      <td>72965.63094</td>\n",
       "      <td>73704.04743</td>\n",
       "      <td>74310.48167</td>\n",
       "      <td>74127.03788</td>\n",
       "      <td>73547.0411</td>\n",
       "      <td>...</td>\n",
       "      <td>525953.4981</td>\n",
       "      <td>519967.3789</td>\n",
       "      <td>516871.8266</td>\n",
       "      <td>509397.4875</td>\n",
       "      <td>515067.9083</td>\n",
       "      <td>518958.5856</td>\n",
       "      <td>519652.186</td>\n",
       "      <td>525664.3639</td>\n",
       "      <td>532006.6781</td>\n",
       "      <td>546934.1163</td>\n",
       "    </tr>\n",
       "  </tbody>\n",
       "</table>\n",
       "<p>5 rows × 330 columns</p>\n",
       "</div>"
      ],
      "text/plain": [
       "0     London Boroughs         ID 1995-01-01 00:00:00 1995-02-01 00:00:00  \\\n",
       "1      City of London  E09000001         91448.98487         82202.77314   \n",
       "2  Barking & Dagenham  E09000002          50460.2266         51085.77983   \n",
       "3              Barnet  E09000003         93284.51832         93190.16963   \n",
       "4              Bexley  E09000004         64958.09036         64787.92069   \n",
       "5               Brent  E09000005         71306.56698         72022.26197   \n",
       "\n",
       "0 1995-03-01 00:00:00 1995-04-01 00:00:00 1995-05-01 00:00:00  \\\n",
       "1         79120.70256         77101.20804         84409.14932   \n",
       "2         51268.96956         53133.50526         53042.24852   \n",
       "3         92247.52435         90762.87492         90258.00033   \n",
       "4         64367.49344         64277.66881         63997.13588   \n",
       "5         72015.76274         72965.63094         73704.04743   \n",
       "\n",
       "0 1995-06-01 00:00:00 1995-07-01 00:00:00 1995-08-01 00:00:00  ...  \\\n",
       "1         94900.51244         110128.0423         112329.4376  ...   \n",
       "2         53700.34831         52113.12157         52232.19868  ...   \n",
       "3         90107.23471         91441.24768         92361.31512  ...   \n",
       "4         64252.32335         63722.70055         64432.60005  ...   \n",
       "5         74310.48167         74127.03788          73547.0411  ...   \n",
       "\n",
       "0 2021-07-01 00:00:00 2021-08-01 00:00:00 2021-09-01 00:00:00  \\\n",
       "1         946823.5048         951748.3655         956411.5828   \n",
       "2         309272.9988         313458.6524         315061.8135   \n",
       "3         543469.3212         557782.6161         556321.1527   \n",
       "4          366095.067         371295.1503         372283.9658   \n",
       "5         525953.4981         519967.3789         516871.8266   \n",
       "\n",
       "0 2021-10-01 00:00:00 2021-11-01 00:00:00 2021-12-01 00:00:00  \\\n",
       "1         792257.5493         798212.3879          813435.102   \n",
       "2         326733.2244         327928.3074         329557.0047   \n",
       "3         574852.5269         577708.2605         583195.3087   \n",
       "4         375783.3263         378961.3767         379526.3458   \n",
       "5         509397.4875         515067.9083         518958.5856   \n",
       "\n",
       "0 2022-01-01 00:00:00 2022-02-01 00:00:00 2022-03-01 00:00:00  \\\n",
       "1         811508.8041          864897.234         813511.6177   \n",
       "2         338869.7029         345001.3576         346064.5259   \n",
       "3         580179.6373         576485.8755         576689.7495   \n",
       "4         382270.4215         387171.1018         393246.1533   \n",
       "5          519652.186         525664.3639         532006.6781   \n",
       "\n",
       "0 2022-04-01 00:00:00  \n",
       "1         838145.2394  \n",
       "2         336125.8982  \n",
       "3         596898.1846  \n",
       "4         392154.9821  \n",
       "5         546934.1163  \n",
       "\n",
       "[5 rows x 330 columns]"
      ]
     },
     "execution_count": 7,
     "metadata": {},
     "output_type": "execute_result"
    }
   ],
   "source": [
    "#renaming columns\n",
    "properties_T = properties_T.rename(columns = {'Unnamed: 0': 'London Boroughs', pd.NaT: 'ID'})\n",
    "properties_T.head()"
   ]
  },
  {
   "cell_type": "markdown",
   "metadata": {
    "colab_type": "text",
    "id": "jy8BzXHmoWEw"
   },
   "source": [
    "**2.4.Transforming the data**\n",
    "\n",
    "Remember what Wes McKinney said about tidy data? \n",
    "\n",
    "You might need to **melt** your DataFrame here. "
   ]
  },
  {
   "cell_type": "code",
   "execution_count": 8,
   "metadata": {
    "colab": {},
    "colab_type": "code",
    "id": "S2wM0qLuo2Zt"
   },
   "outputs": [
    {
     "data": {
      "text/html": [
       "<div>\n",
       "<style scoped>\n",
       "    .dataframe tbody tr th:only-of-type {\n",
       "        vertical-align: middle;\n",
       "    }\n",
       "\n",
       "    .dataframe tbody tr th {\n",
       "        vertical-align: top;\n",
       "    }\n",
       "\n",
       "    .dataframe thead th {\n",
       "        text-align: right;\n",
       "    }\n",
       "</style>\n",
       "<table border=\"1\" class=\"dataframe\">\n",
       "  <thead>\n",
       "    <tr style=\"text-align: right;\">\n",
       "      <th></th>\n",
       "      <th>London Boroughs</th>\n",
       "      <th>ID</th>\n",
       "      <th>Month</th>\n",
       "      <th>Average_price</th>\n",
       "    </tr>\n",
       "  </thead>\n",
       "  <tbody>\n",
       "    <tr>\n",
       "      <th>0</th>\n",
       "      <td>City of London</td>\n",
       "      <td>E09000001</td>\n",
       "      <td>1995-01-01</td>\n",
       "      <td>91448.98487</td>\n",
       "    </tr>\n",
       "    <tr>\n",
       "      <th>1</th>\n",
       "      <td>Barking &amp; Dagenham</td>\n",
       "      <td>E09000002</td>\n",
       "      <td>1995-01-01</td>\n",
       "      <td>50460.2266</td>\n",
       "    </tr>\n",
       "    <tr>\n",
       "      <th>2</th>\n",
       "      <td>Barnet</td>\n",
       "      <td>E09000003</td>\n",
       "      <td>1995-01-01</td>\n",
       "      <td>93284.51832</td>\n",
       "    </tr>\n",
       "    <tr>\n",
       "      <th>3</th>\n",
       "      <td>Bexley</td>\n",
       "      <td>E09000004</td>\n",
       "      <td>1995-01-01</td>\n",
       "      <td>64958.09036</td>\n",
       "    </tr>\n",
       "    <tr>\n",
       "      <th>4</th>\n",
       "      <td>Brent</td>\n",
       "      <td>E09000005</td>\n",
       "      <td>1995-01-01</td>\n",
       "      <td>71306.56698</td>\n",
       "    </tr>\n",
       "  </tbody>\n",
       "</table>\n",
       "</div>"
      ],
      "text/plain": [
       "      London Boroughs         ID      Month Average_price\n",
       "0      City of London  E09000001 1995-01-01   91448.98487\n",
       "1  Barking & Dagenham  E09000002 1995-01-01    50460.2266\n",
       "2              Barnet  E09000003 1995-01-01   93284.51832\n",
       "3              Bexley  E09000004 1995-01-01   64958.09036\n",
       "4               Brent  E09000005 1995-01-01   71306.56698"
      ]
     },
     "execution_count": 8,
     "metadata": {},
     "output_type": "execute_result"
    }
   ],
   "source": [
    "clean_properties = pd.melt(properties_T, id_vars = ['London Boroughs', 'ID'])\n",
    "clean_properties.head()\n",
    "\n",
    "clean_properties = clean_properties.rename(columns = {0: 'Month', 'value': 'Average_price'})\n",
    "clean_properties.head()"
   ]
  },
  {
   "cell_type": "markdown",
   "metadata": {
    "colab_type": "text",
    "id": "7kIsgAo7o3mf"
   },
   "source": [
    "Remember to make sure your column data types are all correct. Average prices, for example, should be floating point numbers... "
   ]
  },
  {
   "cell_type": "code",
   "execution_count": 9,
   "metadata": {
    "colab": {},
    "colab_type": "code",
    "id": "ZcR4IHbcpOaq"
   },
   "outputs": [
    {
     "name": "stdout",
     "output_type": "stream",
     "text": [
      "<class 'pandas.core.frame.DataFrame'>\n",
      "RangeIndex: 15744 entries, 0 to 15743\n",
      "Data columns (total 4 columns):\n",
      " #   Column           Non-Null Count  Dtype         \n",
      "---  ------           --------------  -----         \n",
      " 0   London Boroughs  15744 non-null  object        \n",
      " 1   ID               14760 non-null  object        \n",
      " 2   Month            15744 non-null  datetime64[ns]\n",
      " 3   Average_price    14760 non-null  float64       \n",
      "dtypes: datetime64[ns](1), float64(1), object(2)\n",
      "memory usage: 492.1+ KB\n"
     ]
    }
   ],
   "source": [
    "clean_properties.dtypes\n",
    "clean_properties['Average_price'] = pd.to_numeric(clean_properties['Average_price'])\n",
    "\n",
    "clean_properties.dtypes\n",
    "clean_properties.info()"
   ]
  },
  {
   "cell_type": "markdown",
   "metadata": {
    "colab_type": "text",
    "id": "knLUXHLypOtw"
   },
   "source": [
    "**2.5. Cleaning the data (part 3)**\n",
    "\n",
    "Do we have an equal number of observations in the ID, Average Price, Month, and London Borough columns? Remember that there are only 32 London Boroughs. How many entries do you have in that column? \n",
    "\n",
    "Check out the contents of the London Borough column, and if you find null values, get rid of them however you see fit. "
   ]
  },
  {
   "cell_type": "code",
   "execution_count": 10,
   "metadata": {
    "colab": {},
    "colab_type": "code",
    "id": "BnvTW5a3p0fC"
   },
   "outputs": [
    {
     "name": "stdout",
     "output_type": "stream",
     "text": [
      "(15744, 4)\n",
      "(14760, 4)\n",
      "(14760, 4)\n"
     ]
    },
    {
     "data": {
      "text/plain": [
       "London Boroughs            object\n",
       "ID                         object\n",
       "Month              datetime64[ns]\n",
       "Average_price             float64\n",
       "dtype: object"
      ]
     },
     "execution_count": 10,
     "metadata": {},
     "output_type": "execute_result"
    }
   ],
   "source": [
    "# checking unique values and removing Unnamed:34, Unnamed: 37, Unnamed: 47 rows\n",
    "# clean_properties['London Boroughs'].unique()\n",
    "\n",
    "# unnamed = clean_properties[(clean_properties['London Boroughs'] =='Unnamed: 34') | \n",
    "               #(clean_properties['London Boroughs'] == 'Unnamed: 37') |(clean_properties['London Boroughs'] == 'Unnamed: 47')]\n",
    "# index = unnamed.index\n",
    "# clean_properties = clean_properties.drop(index)\n",
    "# checking for null values in ID column\n",
    "\n",
    "# Checking for NA values\n",
    "clean_properties['London Boroughs'].unique()\n",
    "clean_properties[clean_properties['ID'].isna()]\n",
    "\n",
    "# Removing NA values using notna()\n",
    "NaNFreeDF1 = clean_properties[clean_properties['Average_price'].notna()]\n",
    "NaNFreeDF1.count()\n",
    "\n",
    "# Removing NA values using dropna()\n",
    "NaNFreeDF2 = clean_properties.dropna()\n",
    "NaNFreeDF2.count()\n",
    "\n",
    "# Checking for unique values\n",
    "NaNFreeDF2['London Boroughs'].unique()\n",
    "\n",
    "print(clean_properties.shape)\n",
    "print(NaNFreeDF1.shape)\n",
    "print(NaNFreeDF2.shape)\n",
    "\n",
    "# Dropping the rest of the invalid London Borough values\n",
    "# A list of non-boroughs. \n",
    "nonBoroughs = ['Inner London', 'Outer London', \n",
    "               'NORTH EAST', 'NORTH WEST', 'YORKS & THE HUMBER', \n",
    "               'EAST MIDLANDS', 'WEST MIDLANDS',\n",
    "              'EAST OF ENGLAND', 'LONDON', 'SOUTH EAST', \n",
    "              'SOUTH WEST', 'England']\n",
    "\n",
    "NaNFreeDF2 = NaNFreeDF2[~NaNFreeDF2['London Boroughs'].isin(nonBoroughs)]\n",
    "NaNFreeDF2.head()\n",
    "NaNFreeDF2.shape\n",
    "\n",
    "df = NaNFreeDF2\n",
    "df.head()\n",
    "df.dtypes"
   ]
  },
  {
   "cell_type": "markdown",
   "metadata": {
    "colab_type": "text",
    "id": "PGEx6mJsp6dG"
   },
   "source": [
    "**2.6. Visualizing the data**\n",
    "\n",
    "To visualize the data, why not subset on a particular London Borough? Maybe do a line plot of Month against Average Price?"
   ]
  },
  {
   "cell_type": "code",
   "execution_count": 11,
   "metadata": {
    "colab": {},
    "colab_type": "code",
    "id": "nAg5pT9cqHAR"
   },
   "outputs": [
    {
     "data": {
      "text/plain": [
       "Text(0, 0.5, 'Price')"
      ]
     },
     "execution_count": 11,
     "metadata": {},
     "output_type": "execute_result"
    },
    {
     "data": {
      "image/png": "[encoded data removed]",
      "text/plain": [
       "<Figure size 432x288 with 1 Axes>"
      ]
     },
     "metadata": {
      "needs_background": "light"
     },
     "output_type": "display_data"
    }
   ],
   "source": [
    "camden = df[df['London Boroughs'] == 'Camden']\n",
    "ax = camden.plot(kind = 'line', x = 'Month', y = 'Average_price')\n",
    "ax.set_ylabel('Price')"
   ]
  },
  {
   "cell_type": "markdown",
   "metadata": {
    "colab_type": "text",
    "id": "aWTPqSJeqHnC"
   },
   "source": [
    "To limit the number of data points you have, you might want to extract the year from every month value your *Month* column. \n",
    "\n",
    "To this end, you *could* apply a ***lambda function***. Your logic could work as follows:\n",
    "1. look through the `Month` column\n",
    "2. extract the year from each individual value in that column \n",
    "3. store that corresponding year as separate column. \n",
    "\n",
    "Whether you go ahead with this is up to you. Just so long as you answer our initial brief: which boroughs of London have seen the greatest house price increase, on average, over the past two decades? "
   ]
  },
  {
   "cell_type": "code",
   "execution_count": 12,
   "metadata": {
    "colab": {},
    "colab_type": "code",
    "id": "e0DF92cyqnu8"
   },
   "outputs": [
    {
     "data": {
      "text/html": [
       "<div>\n",
       "<style scoped>\n",
       "    .dataframe tbody tr th:only-of-type {\n",
       "        vertical-align: middle;\n",
       "    }\n",
       "\n",
       "    .dataframe tbody tr th {\n",
       "        vertical-align: top;\n",
       "    }\n",
       "\n",
       "    .dataframe thead th {\n",
       "        text-align: right;\n",
       "    }\n",
       "</style>\n",
       "<table border=\"1\" class=\"dataframe\">\n",
       "  <thead>\n",
       "    <tr style=\"text-align: right;\">\n",
       "      <th></th>\n",
       "      <th>London Boroughs</th>\n",
       "      <th>Year</th>\n",
       "      <th>Average_price</th>\n",
       "    </tr>\n",
       "  </thead>\n",
       "  <tbody>\n",
       "    <tr>\n",
       "      <th>0</th>\n",
       "      <td>Barking &amp; Dagenham</td>\n",
       "      <td>1995</td>\n",
       "      <td>51817.969390</td>\n",
       "    </tr>\n",
       "    <tr>\n",
       "      <th>1</th>\n",
       "      <td>Barking &amp; Dagenham</td>\n",
       "      <td>1996</td>\n",
       "      <td>51718.192690</td>\n",
       "    </tr>\n",
       "    <tr>\n",
       "      <th>2</th>\n",
       "      <td>Barking &amp; Dagenham</td>\n",
       "      <td>1997</td>\n",
       "      <td>55974.262309</td>\n",
       "    </tr>\n",
       "    <tr>\n",
       "      <th>3</th>\n",
       "      <td>Barking &amp; Dagenham</td>\n",
       "      <td>1998</td>\n",
       "      <td>60285.821083</td>\n",
       "    </tr>\n",
       "    <tr>\n",
       "      <th>4</th>\n",
       "      <td>Barking &amp; Dagenham</td>\n",
       "      <td>1999</td>\n",
       "      <td>65320.934441</td>\n",
       "    </tr>\n",
       "  </tbody>\n",
       "</table>\n",
       "</div>"
      ],
      "text/plain": [
       "      London Boroughs  Year  Average_price\n",
       "0  Barking & Dagenham  1995   51817.969390\n",
       "1  Barking & Dagenham  1996   51718.192690\n",
       "2  Barking & Dagenham  1997   55974.262309\n",
       "3  Barking & Dagenham  1998   60285.821083\n",
       "4  Barking & Dagenham  1999   65320.934441"
      ]
     },
     "execution_count": 12,
     "metadata": {},
     "output_type": "execute_result"
    }
   ],
   "source": [
    "# adding a year column\n",
    "df['Year'] = df['Month'].apply(lambda t: t.year)\n",
    "df.tail()\n",
    "\n",
    "# Averace price grouped by London Boroughs and year\n",
    "dfg = df.groupby(by = ['London Boroughs', 'Year']).mean()\n",
    "dfg.sample(10)\n",
    "dfg = dfg.reset_index()\n",
    "dfg.head()"
   ]
  },
  {
   "cell_type": "markdown",
   "metadata": {
    "colab_type": "text",
    "id": "2knuTxAEqoJ4"
   },
   "source": [
    "**3. Modeling**\n",
    "\n",
    "Consider creating a function that will calculate a ratio of house prices, comparing the price of a house in 2018 to the price in 1998.\n",
    "\n",
    "Consider calling this function create_price_ratio.\n",
    "\n",
    "You'd want this function to:\n",
    "1. Take a filter of dfg, specifically where this filter constrains the London_Borough, as an argument. For example, one admissible argument should be: dfg[dfg['London_Borough']=='Camden'].\n",
    "2. Get the Average Price for that Borough, for the years 1998 and 2018.\n",
    "4. Calculate the ratio of the Average Price for 1998 divided by the Average Price for 2018.\n",
    "5. Return that ratio.\n",
    "\n",
    "Once you've written this function, you ultimately want to use it to iterate through all the unique London_Boroughs and work out the ratio capturing the difference of house prices between 1998 and 2018.\n",
    "\n",
    "Bear in mind: you don't have to write a function like this if you don't want to. If you can solve the brief otherwise, then great! \n",
    "\n",
    "***Hint***: This section should test the skills you acquired in:\n",
    "- Python Data Science Toolbox - Part One, all modules"
   ]
  },
  {
   "cell_type": "code",
   "execution_count": 13,
   "metadata": {
    "colab": {},
    "colab_type": "code",
    "id": "cKTyr437UgDa"
   },
   "outputs": [
    {
     "data": {
      "text/plain": [
       "4.89661861291754"
      ]
     },
     "execution_count": 13,
     "metadata": {},
     "output_type": "execute_result"
    }
   ],
   "source": [
    "# function to create ratio of prices 2018 to 1998\n",
    "def create_price_ratio(d):\n",
    "    y1998 = float(d['Average_price'][d['Year'] == 1998])\n",
    "    y2018 = float(d['Average_price'][d['Year'] == 2018])\n",
    "    ratio = y2018 / y1998\n",
    "    return ratio\n",
    "\n",
    "create_price_ratio(dfg[dfg['London Boroughs'] == 'Barking & Dagenham'])"
   ]
  },
  {
   "cell_type": "code",
   "execution_count": 14,
   "metadata": {
    "colab": {},
    "colab_type": "code",
    "id": "cKTyr437UgDa"
   },
   "outputs": [
    {
     "data": {
      "text/html": [
       "<div>\n",
       "<style scoped>\n",
       "    .dataframe tbody tr th:only-of-type {\n",
       "        vertical-align: middle;\n",
       "    }\n",
       "\n",
       "    .dataframe tbody tr th {\n",
       "        vertical-align: top;\n",
       "    }\n",
       "\n",
       "    .dataframe thead th {\n",
       "        text-align: right;\n",
       "    }\n",
       "</style>\n",
       "<table border=\"1\" class=\"dataframe\">\n",
       "  <thead>\n",
       "    <tr style=\"text-align: right;\">\n",
       "      <th></th>\n",
       "      <th>London Boroughs</th>\n",
       "      <th>2018</th>\n",
       "    </tr>\n",
       "  </thead>\n",
       "  <tbody>\n",
       "    <tr>\n",
       "      <th>0</th>\n",
       "      <td>Barking &amp; Dagenham</td>\n",
       "      <td>4.896619</td>\n",
       "    </tr>\n",
       "    <tr>\n",
       "      <th>1</th>\n",
       "      <td>Barnet</td>\n",
       "      <td>4.358196</td>\n",
       "    </tr>\n",
       "    <tr>\n",
       "      <th>2</th>\n",
       "      <td>Bexley</td>\n",
       "      <td>4.248977</td>\n",
       "    </tr>\n",
       "    <tr>\n",
       "      <th>3</th>\n",
       "      <td>Brent</td>\n",
       "      <td>4.894554</td>\n",
       "    </tr>\n",
       "    <tr>\n",
       "      <th>4</th>\n",
       "      <td>Bromley</td>\n",
       "      <td>4.094785</td>\n",
       "    </tr>\n",
       "  </tbody>\n",
       "</table>\n",
       "</div>"
      ],
      "text/plain": [
       "      London Boroughs      2018\n",
       "0  Barking & Dagenham  4.896619\n",
       "1              Barnet  4.358196\n",
       "2              Bexley  4.248977\n",
       "3               Brent  4.894554\n",
       "4             Bromley  4.094785"
      ]
     },
     "execution_count": 14,
     "metadata": {},
     "output_type": "execute_result"
    }
   ],
   "source": [
    "# adding ratios for all London Boroughs\n",
    "final = {}\n",
    "\n",
    "for b in dfg['London Boroughs'].unique():\n",
    "    borough = dfg[dfg['London Boroughs'] == b]\n",
    "    final[b] = create_price_ratio(borough)\n",
    "\n",
    "df_ratios = pd.DataFrame([final])\n",
    "df_ratios_T = df_ratios.T\n",
    "df_ratios_T = df_ratios_T.reset_index()\n",
    "df_ratios_T = df_ratios_T.rename(columns = {'index': 'London Boroughs', 0: '2018'})\n",
    "df_ratios_T.head()"
   ]
  },
  {
   "cell_type": "code",
   "execution_count": 15,
   "metadata": {},
   "outputs": [
    {
     "data": {
      "text/html": [
       "<div>\n",
       "<style scoped>\n",
       "    .dataframe tbody tr th:only-of-type {\n",
       "        vertical-align: middle;\n",
       "    }\n",
       "\n",
       "    .dataframe tbody tr th {\n",
       "        vertical-align: top;\n",
       "    }\n",
       "\n",
       "    .dataframe thead th {\n",
       "        text-align: right;\n",
       "    }\n",
       "</style>\n",
       "<table border=\"1\" class=\"dataframe\">\n",
       "  <thead>\n",
       "    <tr style=\"text-align: right;\">\n",
       "      <th></th>\n",
       "      <th>London Boroughs</th>\n",
       "      <th>2018</th>\n",
       "    </tr>\n",
       "  </thead>\n",
       "  <tbody>\n",
       "    <tr>\n",
       "      <th>11</th>\n",
       "      <td>Hackney</td>\n",
       "      <td>6.198286</td>\n",
       "    </tr>\n",
       "    <tr>\n",
       "      <th>30</th>\n",
       "      <td>Waltham Forest</td>\n",
       "      <td>5.834756</td>\n",
       "    </tr>\n",
       "    <tr>\n",
       "      <th>27</th>\n",
       "      <td>Southwark</td>\n",
       "      <td>5.516485</td>\n",
       "    </tr>\n",
       "    <tr>\n",
       "      <th>22</th>\n",
       "      <td>Lewisham</td>\n",
       "      <td>5.449221</td>\n",
       "    </tr>\n",
       "    <tr>\n",
       "      <th>32</th>\n",
       "      <td>Westminster</td>\n",
       "      <td>5.353565</td>\n",
       "    </tr>\n",
       "    <tr>\n",
       "      <th>24</th>\n",
       "      <td>Newham</td>\n",
       "      <td>5.305390</td>\n",
       "    </tr>\n",
       "    <tr>\n",
       "      <th>6</th>\n",
       "      <td>City of London</td>\n",
       "      <td>5.301620</td>\n",
       "    </tr>\n",
       "    <tr>\n",
       "      <th>13</th>\n",
       "      <td>Haringey</td>\n",
       "      <td>5.134625</td>\n",
       "    </tr>\n",
       "    <tr>\n",
       "      <th>19</th>\n",
       "      <td>Kensington &amp; Chelsea</td>\n",
       "      <td>5.082465</td>\n",
       "    </tr>\n",
       "    <tr>\n",
       "      <th>21</th>\n",
       "      <td>Lambeth</td>\n",
       "      <td>4.957751</td>\n",
       "    </tr>\n",
       "    <tr>\n",
       "      <th>5</th>\n",
       "      <td>Camden</td>\n",
       "      <td>4.935353</td>\n",
       "    </tr>\n",
       "    <tr>\n",
       "      <th>0</th>\n",
       "      <td>Barking &amp; Dagenham</td>\n",
       "      <td>4.896619</td>\n",
       "    </tr>\n",
       "    <tr>\n",
       "      <th>3</th>\n",
       "      <td>Brent</td>\n",
       "      <td>4.894554</td>\n",
       "    </tr>\n",
       "    <tr>\n",
       "      <th>18</th>\n",
       "      <td>Islington</td>\n",
       "      <td>4.844048</td>\n",
       "    </tr>\n",
       "    <tr>\n",
       "      <th>10</th>\n",
       "      <td>Greenwich</td>\n",
       "      <td>4.763036</td>\n",
       "    </tr>\n",
       "  </tbody>\n",
       "</table>\n",
       "</div>"
      ],
      "text/plain": [
       "         London Boroughs      2018\n",
       "11               Hackney  6.198286\n",
       "30        Waltham Forest  5.834756\n",
       "27             Southwark  5.516485\n",
       "22              Lewisham  5.449221\n",
       "32           Westminster  5.353565\n",
       "24                Newham  5.305390\n",
       "6         City of London  5.301620\n",
       "13              Haringey  5.134625\n",
       "19  Kensington & Chelsea  5.082465\n",
       "21               Lambeth  4.957751\n",
       "5                 Camden  4.935353\n",
       "0     Barking & Dagenham  4.896619\n",
       "3                  Brent  4.894554\n",
       "18             Islington  4.844048\n",
       "10             Greenwich  4.763036"
      ]
     },
     "execution_count": 15,
     "metadata": {},
     "output_type": "execute_result"
    }
   ],
   "source": [
    "# top 15 Boroughs with highest ratios between prices from 2018 to 1998\n",
    "top15 = df_ratios_T.sort_values(by = '2018', ascending = False).head(15)\n",
    "top15"
   ]
  },
  {
   "cell_type": "code",
   "execution_count": 16,
   "metadata": {},
   "outputs": [
    {
     "data": {
      "text/plain": [
       "Text(0, 0.5, 'Price ratio')"
      ]
     },
     "execution_count": 16,
     "metadata": {},
     "output_type": "execute_result"
    },
    {
     "data": {
      "image/png": "[encoded data removed]",
      "text/plain": [
       "<Figure size 432x288 with 1 Axes>"
      ]
     },
     "metadata": {
      "needs_background": "light"
     },
     "output_type": "display_data"
    }
   ],
   "source": [
    "# Barplot of the top 15 London Boroughs that had the highest price increase \n",
    "top_boroughs = top15[['London Boroughs','2018']].plot(kind='bar')\n",
    "top_boroughs.set_xticklabels(top15['London Boroughs'])\n",
    "top_boroughs.set_ylabel('Price ratio')"
   ]
  },
  {
   "cell_type": "markdown",
   "metadata": {
    "colab_type": "text",
    "id": "NzYUI7FxJpgv"
   },
   "source": [
    "### 4. Conclusion\n",
    "What can you conclude? Type out your conclusion below. \n",
    "\n",
    "Look back at your notebook. Think about how you might summarize what you have done, and prepare a quick presentation on it to your mentor at your next meeting. \n",
    "\n",
    "We hope you enjoyed this practical project. It should have consolidated your data hygiene and pandas skills by looking at a real-world problem involving just the kind of dataset you might encounter as a budding data scientist. Congratulations, and looking forward to seeing you at the next step in the course! "
   ]
  }
 ],
 "metadata": {
  "colab": {
   "collapsed_sections": [],
   "name": "Springboard Data Science Career Track Unit 4 Challenge - Tier 3 Complete .ipynb",
   "provenance": []
  },
  "kernelspec": {
   "display_name": "Python 3 (ipykernel)",
   "language": "python",
   "name": "python3"
  },
  "language_info": {
   "codemirror_mode": {
    "name": "ipython",
    "version": 3
   },
   "file_extension": ".py",
   "mimetype": "text/x-python",
   "name": "python",
   "nbconvert_exporter": "python",
   "pygments_lexer": "ipython3",
   "version": "3.9.12"
  }
 },
 "nbformat": 4,
 "nbformat_minor": 1
}
